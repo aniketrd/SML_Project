{
 "cells": [
  {
   "cell_type": "code",
   "execution_count": 1,
   "metadata": {},
   "outputs": [],
   "source": [
    "import pandas as pd\n",
    "from collections import defaultdict\n",
    "from itertools import combinations"
   ]
  },
  {
   "cell_type": "code",
   "execution_count": 2,
   "metadata": {},
   "outputs": [],
   "source": [
    "df = pd.read_csv(\"./data/player_regular_season.csv\")\n",
    "df_players = pd.read_csv(\"./data/players.csv\")"
   ]
  },
  {
   "cell_type": "code",
   "execution_count": 3,
   "metadata": {},
   "outputs": [
    {
     "data": {
      "text/html": [
       "<div>\n",
       "<style scoped>\n",
       "    .dataframe tbody tr th:only-of-type {\n",
       "        vertical-align: middle;\n",
       "    }\n",
       "\n",
       "    .dataframe tbody tr th {\n",
       "        vertical-align: top;\n",
       "    }\n",
       "\n",
       "    .dataframe thead th {\n",
       "        text-align: right;\n",
       "    }\n",
       "</style>\n",
       "<table border=\"1\" class=\"dataframe\">\n",
       "  <thead>\n",
       "    <tr style=\"text-align: right;\">\n",
       "      <th></th>\n",
       "      <th>ilkid</th>\n",
       "      <th>year</th>\n",
       "      <th>firstname</th>\n",
       "      <th>lastname</th>\n",
       "      <th>team</th>\n",
       "      <th>leag</th>\n",
       "      <th>gp</th>\n",
       "      <th>minutes</th>\n",
       "      <th>pts</th>\n",
       "      <th>oreb</th>\n",
       "      <th>...</th>\n",
       "      <th>stl</th>\n",
       "      <th>blk</th>\n",
       "      <th>turnover</th>\n",
       "      <th>pf</th>\n",
       "      <th>fga</th>\n",
       "      <th>fgm</th>\n",
       "      <th>fta</th>\n",
       "      <th>ftm</th>\n",
       "      <th>tpa</th>\n",
       "      <th>tpm</th>\n",
       "    </tr>\n",
       "  </thead>\n",
       "  <tbody>\n",
       "    <tr>\n",
       "      <th>0</th>\n",
       "      <td>ABRAMJO01</td>\n",
       "      <td>1946</td>\n",
       "      <td>John</td>\n",
       "      <td>Abramovic</td>\n",
       "      <td>PIT</td>\n",
       "      <td>N</td>\n",
       "      <td>47</td>\n",
       "      <td>0</td>\n",
       "      <td>527</td>\n",
       "      <td>0</td>\n",
       "      <td>...</td>\n",
       "      <td>0.0</td>\n",
       "      <td>0.0</td>\n",
       "      <td>0.0</td>\n",
       "      <td>161</td>\n",
       "      <td>834</td>\n",
       "      <td>202</td>\n",
       "      <td>178</td>\n",
       "      <td>123</td>\n",
       "      <td>0</td>\n",
       "      <td>0</td>\n",
       "    </tr>\n",
       "    <tr>\n",
       "      <th>1</th>\n",
       "      <td>AUBUCCH01</td>\n",
       "      <td>1946</td>\n",
       "      <td>Chet</td>\n",
       "      <td>Aubuchon</td>\n",
       "      <td>DE1</td>\n",
       "      <td>N</td>\n",
       "      <td>30</td>\n",
       "      <td>0</td>\n",
       "      <td>65</td>\n",
       "      <td>0</td>\n",
       "      <td>...</td>\n",
       "      <td>0.0</td>\n",
       "      <td>0.0</td>\n",
       "      <td>0.0</td>\n",
       "      <td>46</td>\n",
       "      <td>91</td>\n",
       "      <td>23</td>\n",
       "      <td>35</td>\n",
       "      <td>19</td>\n",
       "      <td>0</td>\n",
       "      <td>0</td>\n",
       "    </tr>\n",
       "    <tr>\n",
       "      <th>2</th>\n",
       "      <td>BAKERNO01</td>\n",
       "      <td>1946</td>\n",
       "      <td>Norm</td>\n",
       "      <td>Baker</td>\n",
       "      <td>CH1</td>\n",
       "      <td>N</td>\n",
       "      <td>4</td>\n",
       "      <td>0</td>\n",
       "      <td>0</td>\n",
       "      <td>0</td>\n",
       "      <td>...</td>\n",
       "      <td>0.0</td>\n",
       "      <td>0.0</td>\n",
       "      <td>0.0</td>\n",
       "      <td>0</td>\n",
       "      <td>1</td>\n",
       "      <td>0</td>\n",
       "      <td>0</td>\n",
       "      <td>0</td>\n",
       "      <td>0</td>\n",
       "      <td>0</td>\n",
       "    </tr>\n",
       "    <tr>\n",
       "      <th>3</th>\n",
       "      <td>BALTIHE01</td>\n",
       "      <td>1946</td>\n",
       "      <td>Herschel</td>\n",
       "      <td>Baltimore</td>\n",
       "      <td>ST1</td>\n",
       "      <td>N</td>\n",
       "      <td>58</td>\n",
       "      <td>0</td>\n",
       "      <td>138</td>\n",
       "      <td>0</td>\n",
       "      <td>...</td>\n",
       "      <td>0.0</td>\n",
       "      <td>0.0</td>\n",
       "      <td>0.0</td>\n",
       "      <td>98</td>\n",
       "      <td>263</td>\n",
       "      <td>53</td>\n",
       "      <td>69</td>\n",
       "      <td>32</td>\n",
       "      <td>0</td>\n",
       "      <td>0</td>\n",
       "    </tr>\n",
       "    <tr>\n",
       "      <th>4</th>\n",
       "      <td>BARRJO01</td>\n",
       "      <td>1946</td>\n",
       "      <td>John</td>\n",
       "      <td>Barr</td>\n",
       "      <td>ST1</td>\n",
       "      <td>N</td>\n",
       "      <td>58</td>\n",
       "      <td>0</td>\n",
       "      <td>295</td>\n",
       "      <td>0</td>\n",
       "      <td>...</td>\n",
       "      <td>0.0</td>\n",
       "      <td>0.0</td>\n",
       "      <td>0.0</td>\n",
       "      <td>164</td>\n",
       "      <td>438</td>\n",
       "      <td>124</td>\n",
       "      <td>79</td>\n",
       "      <td>47</td>\n",
       "      <td>0</td>\n",
       "      <td>0</td>\n",
       "    </tr>\n",
       "  </tbody>\n",
       "</table>\n",
       "<p>5 rows × 23 columns</p>\n",
       "</div>"
      ],
      "text/plain": [
       "       ilkid  year firstname   lastname team leag  gp  minutes  pts  oreb  \\\n",
       "0  ABRAMJO01  1946      John  Abramovic  PIT    N  47        0  527     0   \n",
       "1  AUBUCCH01  1946      Chet   Aubuchon  DE1    N  30        0   65     0   \n",
       "2  BAKERNO01  1946      Norm      Baker  CH1    N   4        0    0     0   \n",
       "3  BALTIHE01  1946  Herschel  Baltimore  ST1    N  58        0  138     0   \n",
       "4   BARRJO01  1946      John       Barr  ST1    N  58        0  295     0   \n",
       "\n",
       "  ...   stl  blk  turnover   pf  fga  fgm  fta  ftm  tpa  tpm  \n",
       "0 ...   0.0  0.0       0.0  161  834  202  178  123    0    0  \n",
       "1 ...   0.0  0.0       0.0   46   91   23   35   19    0    0  \n",
       "2 ...   0.0  0.0       0.0    0    1    0    0    0    0    0  \n",
       "3 ...   0.0  0.0       0.0   98  263   53   69   32    0    0  \n",
       "4 ...   0.0  0.0       0.0  164  438  124   79   47    0    0  \n",
       "\n",
       "[5 rows x 23 columns]"
      ]
     },
     "execution_count": 3,
     "metadata": {},
     "output_type": "execute_result"
    }
   ],
   "source": [
    "df.head()"
   ]
  },
  {
   "cell_type": "code",
   "execution_count": 4,
   "metadata": {},
   "outputs": [
    {
     "data": {
      "text/plain": [
       "array(['F', 'C', 'G'], dtype=object)"
      ]
     },
     "execution_count": 4,
     "metadata": {},
     "output_type": "execute_result"
    }
   ],
   "source": [
    "df_players.position.unique()"
   ]
  },
  {
   "cell_type": "code",
   "execution_count": 5,
   "metadata": {},
   "outputs": [],
   "source": [
    "\n",
    "#graph = defaultdict(int)\n",
    "\n",
    "id_player_dic = df_players.to_dict('index')\n",
    "player_id_dic =  {v['ilkid']: k for k, v in id_player_dic.items()}\n",
    "\n",
    "temp_dic =  {v['ilkid']: v for k, v in id_player_dic.items()}\n",
    "\n"
   ]
  },
  {
   "cell_type": "code",
   "execution_count": 6,
   "metadata": {},
   "outputs": [
    {
     "name": "stdout",
     "output_type": "stream",
     "text": [
      "<pandas.core.groupby.groupby.DataFrameGroupBy object at 0x11426c390>\n"
     ]
    }
   ],
   "source": [
    "\n",
    "ls = df.groupby(['year','team'])\n",
    "print(ls)"
   ]
  },
  {
   "cell_type": "code",
   "execution_count": 7,
   "metadata": {},
   "outputs": [],
   "source": [
    "groups = dict(list(ls))"
   ]
  },
  {
   "cell_type": "raw",
   "metadata": {},
   "source": []
  },
  {
   "cell_type": "code",
   "execution_count": null,
   "metadata": {},
   "outputs": [],
   "source": []
  },
  {
   "cell_type": "code",
   "execution_count": null,
   "metadata": {},
   "outputs": [],
   "source": []
  },
  {
   "cell_type": "code",
   "execution_count": null,
   "metadata": {},
   "outputs": [],
   "source": []
  },
  {
   "cell_type": "code",
   "execution_count": null,
   "metadata": {},
   "outputs": [],
   "source": []
  },
  {
   "cell_type": "code",
   "execution_count": 8,
   "metadata": {},
   "outputs": [],
   "source": [
    "\n",
    "# for key, val in groups.items():\n",
    "#     #print(val)\n",
    "#     comb = combinations(list(val['ilkid']), 2)\n",
    "#     break\n",
    "# for val in comb:\n",
    "#     print(val)\n",
    "\n"
   ]
  },
  {
   "cell_type": "code",
   "execution_count": 9,
   "metadata": {},
   "outputs": [],
   "source": [
    "class Graph:\n",
    "    def __init__(self):\n",
    "        self.graph = defaultdict(dict)\n",
    "        \n",
    "    def add_edge(self, to, fro, weight):\n",
    "        if not self.graph[to]:\n",
    "            self.graph[to] = defaultdict(int)\n",
    "        if not self.graph[fro]:\n",
    "            self.graph[fro] = defaultdict(int)\n",
    "        self.graph[to][fro] += weight\n",
    "        self.graph[fro][to] += weight\n",
    "    \n",
    "    def add_edges(self, combinations):\n",
    "        for combination in combinations:\n",
    "            self.add_edge(combination[0], combination[1], 1)\n",
    "            \n",
    "    "
   ]
  },
  {
   "cell_type": "code",
   "execution_count": 10,
   "metadata": {},
   "outputs": [],
   "source": [
    "network_graph = Graph()\n",
    "for key, val in groups.items():\n",
    "    #print(val)\n",
    "    comb = combinations(list(val['ilkid']), 2)\n",
    "    network_graph.add_edges(comb)\n",
    "\n",
    "#network_graph.graph"
   ]
  },
  {
   "cell_type": "code",
   "execution_count": 11,
   "metadata": {},
   "outputs": [],
   "source": [
    "\n",
    "\n",
    "support_set_dict = defaultdict(list)\n",
    "skill_set = ['F', 'F' , 'C', 'G', 'G']\n",
    "def get_rarest_support(df, skills):\n",
    "    df_support_group = df.groupby('position')\n",
    "    #print(support_count)    \n",
    "    min_support = ('F', float('inf'))\n",
    "    req_skill_set = set(skills)\n",
    "    for key, val in df_support_group:\n",
    "        #print(key, \":\", val)\n",
    "        support_set_dict[key] = list(val['ilkid'])\n",
    "        if key in req_skill_set and val.shape[0] < min_support[1]:\n",
    "            min_support = (key, val.shape[0])\n",
    "    return min_support\n",
    "            \n",
    "    \n",
    "min_support =get_rarest_support(df_players, skill_set)\n",
    "\n",
    "#print(support_set_dict[min_support[0]])\n",
    "\n",
    "def rarestFirst(skills, graph):    \n",
    "    min_support =get_rarest_support(df_players, skill_set)\n",
    "    min_support_list = support_set_dict[min_support[0]]\n",
    "    #print(min_support_list)\n",
    "   \n",
    "    max_score = float('-inf')\n",
    "    best_team = None\n",
    "    i = 0\n",
    "    for rare_skill_person in min_support_list:\n",
    "        selected_set = set()\n",
    "        selected_set.add(rare_skill_person)\n",
    "        req_skills = list(skills)\n",
    "        req_skills.remove(min_support[0])\n",
    "        curr_score = 0\n",
    "        curr_team = []\n",
    "        curr_team.append((rare_skill_person,0))\n",
    "        for skill in req_skills:\n",
    "            player = find_person_with_skill(graph, rare_skill_person, support_set_dict[skill], selected_set)\n",
    "            curr_score += player[1]\n",
    "            curr_team.append(player)\n",
    "        \n",
    "        if max_score < curr_score:\n",
    "            max_score, best_team = curr_score, curr_team\n",
    "        i += 1\n",
    "        #print(\"Current Team \",i,\" : \", curr_team, curr_score)\n",
    "    return best_team, max_score\n",
    "        \n",
    "def find_person_with_skill(graph, person, player_with_req_skills, selected_set):\n",
    "    max_matches_played = float('-inf')\n",
    "    player_selected = None\n",
    "    #print(graph)\n",
    "    for player in graph[person]:\n",
    "        if player in player_with_req_skills and graph[person][player] > max_matches_played and player not in selected_set:\n",
    "            max_matches_played = graph[person][player]\n",
    "            player_selected = player\n",
    "            selected_set.add(player)\n",
    "            \n",
    "    return (player_selected, max_matches_played)\n",
    "    #return None,None\n",
    "        \n",
    "    \n",
    "    \n",
    "team, score = rarestFirst(skill_set, network_graph.graph)\n",
    "    "
   ]
  },
  {
   "cell_type": "code",
   "execution_count": 12,
   "metadata": {},
   "outputs": [
    {
     "name": "stdout",
     "output_type": "stream",
     "text": [
      "[('RUSSEBI01', 0), ('HEINSTO01', 9), ('SANDETH01', 9), ('JONESSA01', 12), ('JONESKC01', 9)] 39\n"
     ]
    }
   ],
   "source": [
    "print(team, score)"
   ]
  },
  {
   "cell_type": "code",
   "execution_count": 13,
   "metadata": {},
   "outputs": [
    {
     "data": {
      "text/plain": [
       "[('LEERO02', 0), ('BROOKMI01', 1), ('BRYANJO01', 1), ('BROGAJI01', 1)]"
      ]
     },
     "execution_count": 13,
     "metadata": {},
     "output_type": "execute_result"
    }
   ],
   "source": [
    "[('LEERO02', 0), ('BROOKMI01', 1), ('BRYANJO01', 1), ('BROGAJI01', 1)]"
   ]
  },
  {
   "cell_type": "code",
   "execution_count": 14,
   "metadata": {},
   "outputs": [
    {
     "name": "stdout",
     "output_type": "stream",
     "text": [
      "[('DECLEAN01', 'C'), ('GARRIPA01', 'F'), ('HILLGR01', 'F'), ('ARMSTBJ01', 'G'), ('BROWNDE01', 'G')]\n",
      "[('RUSSEBI01', 0), ('HEINSTO01', 9), ('SANDETH01', 9), ('JONESSA01', 12), ('JONESKC01', 9)] 39\n",
      "Current Team :  {'HILLGR01', 'ARMSTBJ01', 'BROWNDE01', 'DECLEAN01', 'GARRIPA01'}  Score :  15\n",
      "Performance :  38.46153846153847\n"
     ]
    }
   ],
   "source": [
    "#Temp Dic is the dictionary of player id to player details\n",
    "\n",
    "def calculate_team_performance(team):\n",
    "    skills = []\n",
    "    team_detailed = []\n",
    "    for player in team:\n",
    "        skills.append(temp_dic[player]['position'])\n",
    "        team_detailed.append((player, skills[-1]))\n",
    "    best_team, best_score = rarestFirst(skill_set, network_graph.graph)\n",
    "    #print(team)\n",
    "    print(team_detailed)\n",
    "    print(best_team, best_score)   \n",
    "    min_support = get_rarest_support(df_players, skill_set)\n",
    "    #print(min_support)\n",
    "    max_score = 0\n",
    "    curr_team = None\n",
    "    for player in team_detailed:\n",
    "        score = 0\n",
    "        selected = set()\n",
    "        if player[1] == min_support[0]:\n",
    "            selected.add(player[0])\n",
    "            for p in team_detailed:\n",
    "                if p[0] not in selected:\n",
    "                    val = network_graph.graph[player[0]][p[0]]\n",
    "                    score += val\n",
    "                    selected.add(p[0])\n",
    "\n",
    "        if max_score < score:\n",
    "            max_score = score\n",
    "            curr_team = selected\n",
    "    print(\"Current Team : \", curr_team, \" Score : \", max_score)\n",
    "    \n",
    "    print(\"Performance : \" , max_score / best_score * 100)\n",
    "    return \n",
    "    \n",
    "#inp_team = [('DECLEAN01', 0), ('GARRIPA01', 5), ('HILLGR01', 4), ('ARMSTBJ01', 3), ('BROWNDE01', 3)]\n",
    "    \n",
    "calculate_team_performance(['DECLEAN01', 'GARRIPA01', 'HILLGR01', 'ARMSTBJ01', 'BROWNDE01'])"
   ]
  },
  {
   "cell_type": "code",
   "execution_count": null,
   "metadata": {},
   "outputs": [],
   "source": []
  },
  {
   "cell_type": "code",
   "execution_count": null,
   "metadata": {},
   "outputs": [],
   "source": [
    "\n"
   ]
  },
  {
   "cell_type": "code",
   "execution_count": null,
   "metadata": {},
   "outputs": [],
   "source": []
  },
  {
   "cell_type": "code",
   "execution_count": 15,
   "metadata": {},
   "outputs": [],
   "source": [
    "import networkx as nx\n",
    "import matplotlib.pyplot as plt\n"
   ]
  },
  {
   "cell_type": "code",
   "execution_count": 31,
   "metadata": {},
   "outputs": [],
   "source": [
    "gx = nx.Graph()"
   ]
  },
  {
   "cell_type": "code",
   "execution_count": 32,
   "metadata": {},
   "outputs": [],
   "source": [
    "i = 0\n",
    "for key, val in groups.items():\n",
    "    #print(val)\n",
    "    comb = combinations(list(val['ilkid']), 2)\n",
    "    #network_graph.add_edges(comb)\n",
    "    for c in comb:\n",
    "        gx.add_edge(c[0], c[1])\n",
    "    i += 1\n",
    "    if i == 10:\n",
    "        break"
   ]
  },
  {
   "cell_type": "code",
   "execution_count": null,
   "metadata": {},
   "outputs": [],
   "source": []
  },
  {
   "cell_type": "code",
   "execution_count": 18,
   "metadata": {},
   "outputs": [],
   "source": [
    "# plt.figure(1, figsize = (100,100))\n",
    "# nx.draw(g, node_size = 10)\n",
    "# plt.show()"
   ]
  },
  {
   "cell_type": "code",
   "execution_count": 19,
   "metadata": {},
   "outputs": [],
   "source": [
    "\n",
    "# gx = nx.Graph()\n",
    "# i = 0\n",
    "# for key, val in groups.items():\n",
    "#     #print(val)\n",
    "#     comb = combinations(list(val['ilkid']), 2)\n",
    "#     #network_graph.add_edges(comb)\n",
    "#     for c in comb:        \n",
    "#         if gx.has_edge(c[0], c[1]):\n",
    "#             gx[c[0]][c[1]]['weight'] += 1\n",
    "#         else:\n",
    "#             gx.add_edge(c[0], c[1], weight=1)\n",
    "#     i += 1\n",
    "#     if i == 10:\n",
    "#         break\n",
    "\n",
    "\n"
   ]
  },
  {
   "cell_type": "code",
   "execution_count": null,
   "metadata": {},
   "outputs": [],
   "source": [
    "plt.figure(1, figsize = (50,50))\n",
    "labels = nx.get_edge_attributes(gx, 'weight')\n",
    "#pos = nx.get_node_attributes(gx, 'pos')\n",
    "nx.draw(gx, node_size = 10, with_labels = True, edge_labels = labels)\n",
    "#plt.show()\n",
    "plt.savefig(\"graph.pdf\")"
   ]
  },
  {
   "cell_type": "code",
   "execution_count": 21,
   "metadata": {},
   "outputs": [
    {
     "data": {
      "text/plain": [
       "['WEBERFO01', 'ROSENHA01', 'FITZGBO01', 'BYRNETO01']"
      ]
     },
     "execution_count": 21,
     "metadata": {},
     "output_type": "execute_result"
    }
   ],
   "source": [
    "['WEBERFO01', 'ROSENHA01', 'FITZGBO01', 'BYRNETO01']"
   ]
  },
  {
   "cell_type": "code",
   "execution_count": 22,
   "metadata": {},
   "outputs": [
    {
     "data": {
      "text/plain": [
       "defaultdict(int,\n",
       "            {'BRINDAU01': 1,\n",
       "             'BYRNETO01': 1,\n",
       "             'CLUGGMA01': 1,\n",
       "             'FITZGBO01': 2,\n",
       "             'FREYFR01': 1,\n",
       "             'GOTTLLE01': 1,\n",
       "             'HERTZSI01': 1,\n",
       "             'KAPLORA01': 2,\n",
       "             'KNORELE01': 1,\n",
       "             'MANGIFR01': 1,\n",
       "             'MILITNA01': 2,\n",
       "             'MULLEBO01': 2,\n",
       "             'MURPHDI01': 2,\n",
       "             'MURPHJO01': 2,\n",
       "             'PALMEJO01': 1,\n",
       "             'ROSENHA01': 3,\n",
       "             'SCHECOS01': 1,\n",
       "             'STUTZST01': 1,\n",
       "             'VANBRBU01': 1,\n",
       "             'BEENDHA01': 1,\n",
       "             'CALLATO01': 1,\n",
       "             'CALVEER01': 1,\n",
       "             'CUREAR01': 1,\n",
       "             'DEHNEHE01': 1,\n",
       "             'GOODWWI01': 1,\n",
       "             'GRIMSGE01': 1,\n",
       "             'KELLEKE01': 2,\n",
       "             'MARTIDO02': 1,\n",
       "             'MEARNGE01': 1,\n",
       "             'MORGEEL01': 1,\n",
       "             'PASTUGE01': 1,\n",
       "             'SHANNEA01': 1,\n",
       "             'SHEABO01': 1,\n",
       "             'SPICELO01': 1,\n",
       "             'BECKEMO01': 1,\n",
       "             'DUFFYBO01': 1,\n",
       "             'HERMSCL01': 1,\n",
       "             'HOEFEAD01': 1,\n",
       "             'KAPPETO01': 1,\n",
       "             'MOGUSLE01': 1,\n",
       "             'NOSTRGE01': 1,\n",
       "             'SADOWED01': 1,\n",
       "             'SCHULDI01': 1,\n",
       "             'SIEWERA01': 1,\n",
       "             'WALLAMI01': 1,\n",
       "             'WERTIRA01': 1})"
      ]
     },
     "execution_count": 22,
     "metadata": {},
     "output_type": "execute_result"
    }
   ],
   "source": [
    "network_graph.graph['WEBERFO01']"
   ]
  },
  {
   "cell_type": "code",
   "execution_count": 23,
   "metadata": {},
   "outputs": [],
   "source": [
    "import itertools\n",
    "# support_set_dict = defaultdict(list)\n",
    "# skill_set = ['F', 'F' , 'C', 'G', 'G']\n",
    "# def get_rarest_support(df, skills):\n",
    "#     df_support_group = df.groupby('position')\n",
    "#     #print(support_count)    \n",
    "#     min_support = ('F', float('inf'))\n",
    "#     req_skill_set = set(skills)\n",
    "#     for key, val in df_support_group:\n",
    "#         #print(key, \":\", val)\n",
    "#         support_set_dict[key] = list(val['ilkid'])\n",
    "#         if key in req_skill_set and val.shape[0] < min_support[1]:\n",
    "#             min_support = (key, val.shape[0])\n",
    "#     return min_support\n",
    "            \n",
    "    \n",
    "# min_support =get_rarest_support(df_players, skill_set)\n",
    "\n",
    "#print(support_set_dict[min_support[0]])\n",
    "\n",
    "def all_skills(skills, graph):    \n",
    "    min_support =get_rarest_support(df_players, skill_set)\n",
    "    min_support_list = support_set_dict[min_support[0]]\n",
    "    #print(min_support_list)\n",
    "   \n",
    "    max_score = float('-inf')\n",
    "    best_team = None\n",
    "    i = 0\n",
    "    lst = list(itertools.chain(*support_set_dict.values()))\n",
    "    for rare_skill_person in lst:\n",
    "        selected_set = set()\n",
    "        selected_set.add(rare_skill_person)\n",
    "        req_skills = list(skills)\n",
    "        req_skills.remove(min_support[0])\n",
    "        curr_score = 0\n",
    "        curr_team = []\n",
    "        curr_team.append((rare_skill_person,0))\n",
    "        for skill in req_skills:\n",
    "            player = find_person_with_skill(graph, rare_skill_person, support_set_dict[skill], selected_set)\n",
    "            curr_score += player[1]\n",
    "            curr_team.append(player)\n",
    "        \n",
    "        if max_score < curr_score:\n",
    "            max_score, best_team = curr_score, curr_team\n",
    "        i += 1\n",
    "        #print(\"Current Team \",i,\" : \", curr_team, curr_score)\n",
    "    return best_team, max_score\n",
    "        \n",
    "# def find_person_with_skill(graph, person, player_with_req_skills, selected_set):\n",
    "#     max_matches_played = float('-inf')\n",
    "#     player_selected = None\n",
    "#     #print(graph)\n",
    "#     for player in graph[person]:\n",
    "#         if player in player_with_req_skills and graph[person][player] > max_matches_played and player not in selected_set:\n",
    "#             max_matches_played = graph[person][player]\n",
    "#             player_selected = player\n",
    "#             selected_set.add(player)\n",
    "            \n",
    "#     return (player_selected, max_matches_played)\n",
    "#     #return None,None\n",
    "        \n",
    "    \n",
    "    \n",
    "team, score = all_skills(skill_set, network_graph.graph)\n",
    "    "
   ]
  },
  {
   "cell_type": "code",
   "execution_count": 24,
   "metadata": {},
   "outputs": [
    {
     "name": "stdout",
     "output_type": "stream",
     "text": [
      "[('MALONKA01', 0), ('RUSSEBR01', 10), ('BENOIDA01', 6), ('STOCKJO01', 18), ('HORNAJE01', 7)] 41\n"
     ]
    }
   ],
   "source": [
    "print(team, score)"
   ]
  },
  {
   "cell_type": "code",
   "execution_count": null,
   "metadata": {},
   "outputs": [],
   "source": []
  }
 ],
 "metadata": {
  "kernelspec": {
   "display_name": "Python 3",
   "language": "python",
   "name": "python3"
  },
  "language_info": {
   "codemirror_mode": {
    "name": "ipython",
    "version": 3
   },
   "file_extension": ".py",
   "mimetype": "text/x-python",
   "name": "python",
   "nbconvert_exporter": "python",
   "pygments_lexer": "ipython3",
   "version": "3.7.5"
  }
 },
 "nbformat": 4,
 "nbformat_minor": 2
}
